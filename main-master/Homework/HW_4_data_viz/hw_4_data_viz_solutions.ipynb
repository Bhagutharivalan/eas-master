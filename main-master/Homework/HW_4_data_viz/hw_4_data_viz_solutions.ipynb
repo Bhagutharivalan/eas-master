{
 "cells": [
  {
   "cell_type": "markdown",
   "metadata": {},
   "source": [
    "# Homework 4 Solutions"
   ]
  },
  {
   "cell_type": "code",
   "execution_count": 41,
   "metadata": {},
   "outputs": [],
   "source": [
    "import csv\n",
    "import matplotlib.pyplot as plt"
   ]
  },
  {
   "cell_type": "markdown",
   "metadata": {},
   "source": [
    "## Problem 1 (scatterplot)"
   ]
  },
  {
   "cell_type": "code",
   "execution_count": 44,
   "metadata": {},
   "outputs": [],
   "source": [
    "# Read data from .csv file:\n",
    "x = []\n",
    "y = []\n",
    "with open('scatter_data.csv', 'r') as csvfile:\n",
    "    csvreader = csv.reader(csvfile , delimiter=',', quotechar= '|')\n",
    "    for row in csvreader:\n",
    "        # Only read rows that do NOT start with the \"%\" character.\n",
    "        if (row[0][0] != '%'):\n",
    "            x.append(float(row[0]))\n",
    "            y.append(float(row[1]))"
   ]
  },
  {
   "cell_type": "code",
   "execution_count": 45,
   "metadata": {},
   "outputs": [],
   "source": [
    "# Find the left and right-most points\n",
    "extremex = [float('inf'), float('-inf')]\n",
    "extremey = [0, 0]\n",
    "for i in range(0, len(x)):\n",
    "    if (x[i] < extremex[0]):\n",
    "        extremex[0] = x[i]\n",
    "        extremey[0] = y[i]\n",
    "    elif (x[i] > extremex[1]):\n",
    "        extremex[1] = x[i]\n",
    "        extremey[1] = y[i]"
   ]
  },
  {
   "cell_type": "code",
   "execution_count": 59,
   "metadata": {},
   "outputs": [
    {
     "data": {
      "image/png": "[encoded data removed]",
      "text/plain": [
       "<Figure size 432x288 with 1 Axes>"
      ]
     },
     "metadata": {
      "needs_background": "light"
     },
     "output_type": "display_data"
    }
   ],
   "source": [
    "# Create plot:\n",
    "\n",
    "# 1. green triangles for data points:\n",
    "plt.plot(x,y, 'g^', label='observations')\n",
    "\n",
    "# 2. red dashed line from left-most to right-most points:\n",
    "plt.plot(extremex, extremey, 'r--', label='extreme x points')\n",
    "\n",
    "# 3. Add a title:\n",
    "plt.title('Widget Measurements')\n",
    "\n",
    "# 4. Add x-axis label:\n",
    "plt.xlabel('x [inches]')\n",
    "\n",
    "# 5. Add y-axis label:\n",
    "plt.ylabel('y [inches]')\n",
    "\n",
    "# 6. Add a legend:\n",
    "plt.legend();"
   ]
  },
  {
   "cell_type": "markdown",
   "metadata": {},
   "source": [
    "## Problem 2 (Histogram)"
   ]
  },
  {
   "cell_type": "code",
   "execution_count": 99,
   "metadata": {},
   "outputs": [],
   "source": [
    "# Establish the histogram buckets:\n",
    "bins = [0, 60, 70, 80, 90, 100]"
   ]
  },
  {
   "cell_type": "code",
   "execution_count": 100,
   "metadata": {},
   "outputs": [],
   "source": [
    "# Read data from .csv file:\n",
    "x = []\n",
    "y = []\n",
    "with open('student_grades.csv', 'r') as csvfile:\n",
    "    csvreader = csv.reader(csvfile , delimiter=',', quotechar= '|')\n",
    "    for row in csvreader:\n",
    "        # Only read rows that do NOT start with the \"%\" character.\n",
    "        if (row[0][0] != '%'):\n",
    "            x.append(float(row[0]))\n",
    "            y.append(float(row[1]))"
   ]
  },
  {
   "cell_type": "code",
   "execution_count": 115,
   "metadata": {},
   "outputs": [
    {
     "data": {
      "image/png": "[encoded data removed]",
      "text/plain": [
       "<Figure size 432x288 with 1 Axes>"
      ]
     },
     "metadata": {
      "needs_background": "light"
     },
     "output_type": "display_data"
    }
   ],
   "source": [
    "# Use matplot lib to count the observations in each bin:\n",
    "[binCounts, b, p] = plt.hist(y, density=False, bins=bins)\n",
    "\n",
    "# NOTE:  We only want the `binCounts` info, \n",
    "#        which plt.hist() provides for us.\n",
    "#        Please ignore the blue histogram below."
   ]
  },
  {
   "cell_type": "code",
   "execution_count": 137,
   "metadata": {},
   "outputs": [
    {
     "data": {
      "image/png": "[encoded data removed]",
      "text/plain": [
       "<Figure size 432x288 with 1 Axes>"
      ]
     },
     "metadata": {
      "needs_background": "light"
     },
     "output_type": "display_data"
    }
   ],
   "source": [
    "plt.bar(range(0, len(binCounts)), binCounts, color='orange', edgecolor='black')\n",
    "plt.xticks([0, 1, 2, 3, 4], ['F', 'D', 'C', 'B', 'A'])\n",
    "plt.title('Grade Distribution')\n",
    "plt.xlabel('Grade')\n",
    "plt.ylabel('Count')\n",
    "\n",
    "# Add text labels:\n",
    "for i in range(0, 5):\n",
    "    plt.text(i, binCounts[i], int(binCounts[i]), ha='center', va='bottom')"
   ]
  },
  {
   "cell_type": "markdown",
   "metadata": {},
   "source": [
    "## Problem 3 (Bar Plot and Box Plot in Same Figure)"
   ]
  },
  {
   "cell_type": "code",
   "execution_count": 187,
   "metadata": {},
   "outputs": [],
   "source": [
    "import statistics"
   ]
  },
  {
   "cell_type": "code",
   "execution_count": 245,
   "metadata": {},
   "outputs": [],
   "source": [
    "# Read data from .csv file:\n",
    "data = {}\n",
    "with open('solution_data.csv', 'r') as csvfile:\n",
    "    csvreader = csv.reader(csvfile , delimiter=',', quotechar= '|')\n",
    "    for row in csvreader:\n",
    "        # Only read rows that do NOT start with the \"%\" character.\n",
    "        if (row[0][0] != '%'):\n",
    "            problem = int(row[0])\n",
    "            solnMethod = str(row[1])\n",
    "            value = float(row[2])\n",
    "            \n",
    "            if (solnMethod not in data):\n",
    "                data[solnMethod] = {}\n",
    "            data[solnMethod][problem] = value"
   ]
  },
  {
   "cell_type": "code",
   "execution_count": 246,
   "metadata": {},
   "outputs": [],
   "source": [
    "gap = {}\n",
    "means = []\n",
    "labels = ['genetic algorithm', 'simulated annealing', 'tabu search']\n",
    "blah = []\n",
    "maxGap = 0\n",
    "for method in labels:\n",
    "    gap[method] = []\n",
    "    for problem in data[method]:\n",
    "        gap[method].append(100*(data['optimal'][problem] - data[method][problem]) / data['optimal'][problem])\n",
    "        maxGap = max(maxGap, gap[method][-1])\n",
    "    means.append(statistics.mean(gap[method]))\n",
    "    blah.append(gap[method])"
   ]
  },
  {
   "cell_type": "code",
   "execution_count": 247,
   "metadata": {},
   "outputs": [],
   "source": [
    "gap = []\n",
    "means = []\n",
    "labels = ['genetic algorithm', 'simulated annealing', 'tabu search']\n",
    "maxGap = 0\n",
    "i = 0\n",
    "for method in labels:\n",
    "    gap.append([])\n",
    "    for problem in data[method]:\n",
    "        gap[i].append(100*(data['optimal'][problem] - data[method][problem]) / data['optimal'][problem])\n",
    "        maxGap = max(maxGap, gap[i][-1])\n",
    "    means.append(statistics.mean(gap[i]))\n",
    "    i += 1"
   ]
  },
  {
   "cell_type": "code",
   "execution_count": 250,
   "metadata": {},
   "outputs": [
    {
     "data": {
      "image/png": "[encoded data removed]",
      "text/plain": [
       "<Figure size 1080x432 with 2 Axes>"
      ]
     },
     "metadata": {
      "needs_background": "light"
     },
     "output_type": "display_data"
    }
   ],
   "source": [
    "fig, axs = plt.subplots(1, 2, figsize=(15, 6))\n",
    "\n",
    "fig.suptitle('Comparison of Optimality Gaps for Heuristics')\n",
    "\n",
    "# barplot - mean gaps\n",
    "axs[0].bar(range(0, len(means)), means, color='orange', edgecolor='black')\n",
    "axs[0].set_xticks(range(0, len(labels)))\n",
    "axs[0].set_xticklabels(labels)\n",
    "axs[0].set_title('Mean Gaps')\n",
    "axs[0].set_xlabel('Heuristic Method')\n",
    "axs[0].set_ylabel('Optimality Gap (%)')\n",
    "axs[0].set_ylim(0, maxGap+5)\n",
    "\n",
    "# boxplot\n",
    "axs[1].boxplot(gap)\n",
    "# axs[1].set_xticks(range(0, len(labels)))\n",
    "axs[1].set_xticklabels(labels)\n",
    "axs[1].set_title('Distribution of Gaps');\n",
    "axs[1].set_xlabel('Heuristic Method')\n",
    "axs[1].set_ylim(0, maxGap+5);"
   ]
  }
 ],
 "metadata": {
  "kernelspec": {
   "display_name": "Python 3",
   "language": "python",
   "name": "python3"
  },
  "language_info": {
   "codemirror_mode": {
    "name": "ipython",
    "version": 3
   },
   "file_extension": ".py",
   "mimetype": "text/x-python",
   "name": "python",
   "nbconvert_exporter": "python",
   "pygments_lexer": "ipython3",
   "version": "3.7.1"
  }
 },
 "nbformat": 4,
 "nbformat_minor": 2
}
